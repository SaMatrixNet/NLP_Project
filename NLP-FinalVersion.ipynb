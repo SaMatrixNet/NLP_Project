{
 "cells": [
  {
   "cell_type": "markdown",
   "id": "6548f38e",
   "metadata": {},
   "source": [
    "### Template for NLP project\n",
    "\n",
    "The aim of the project is to achieve the following:\n",
    " - Train a neural network that is **at least better than random guessing** on your dataset. The template contains the IMDB dataset for sentiment analysis, however, you can choose any other language related data set with the appropriate NLP task.\n",
    " - Investigate different neural network architectures (different hyperparameters, different layers, different pre-processing). Explain in the presentation, why the final network was selected! **Do not rely on black-box mechanisms.**\n",
    " "
   ]
  },
  {
   "cell_type": "code",
   "execution_count": 1,
   "id": "0c548b24",
   "metadata": {},
   "outputs": [
    {
     "name": "stdout",
     "output_type": "stream",
     "text": [
      "2.9.0\n"
     ]
    }
   ],
   "source": [
    "# tensorflow modules\n",
    "from tensorflow.keras.datasets import imdb\n",
    "from tensorflow.keras.preprocessing import sequence\n",
    "from tensorflow.keras import Sequential\n",
    "from tensorflow.keras.layers import Embedding, Dense, SimpleRNN, LayerNormalization, LSTM, GRU\n",
    "import tensorflow\n",
    "\n",
    "# if you have installed a different version, replace 'r2.6'  with your version in links provided below\n",
    "print(tensorflow.__version__)"
   ]
  },
  {
   "cell_type": "code",
   "execution_count": 2,
   "id": "b175c046",
   "metadata": {},
   "outputs": [
    {
     "name": "stdout",
     "output_type": "stream",
     "text": [
      "Loaded dataset with 25000 training samples, 25000 test samples\n"
     ]
    }
   ],
   "source": [
    "# load imdb dataset\n",
    "# links to dataset\n",
    "# original dataset: https://ai.stanford.edu/~amaas/data/sentiment/\n",
    "# version in tensorflow: https://www.tensorflow.org/versions/r2.9/api_docs/python/tf/keras/datasets/imdb\n",
    "\n",
    "# select your vocabulary size\n",
    "vocabularySize = 5000\n",
    "# load data (it is already pre-processed)\n",
    "# optional: add other pre.processing steps like stopword removal\n",
    "(xTrain, yTrain), (xTest, yTest) = imdb.load_data(num_words=vocabularySize)\n",
    "print('Loaded dataset with {} training samples, {} test samples'.format(len(xTrain), len(xTest)))"
   ]
  },
  {
   "cell_type": "code",
   "execution_count": 3,
   "id": "96094e46",
   "metadata": {},
   "outputs": [],
   "source": [
    "# select maximum number of words as input lengt\n",
    "# pad or truncated (this is done automatically) your data\n",
    "maxWords = 500\n",
    "xTrain = sequence.pad_sequences(xTrain, maxlen=maxWords)\n",
    "xTest = sequence.pad_sequences(xTest, maxlen=maxWords)"
   ]
  },
  {
   "cell_type": "code",
   "execution_count": 6,
   "id": "ef171ad6",
   "metadata": {},
   "outputs": [
    {
     "name": "stdout",
     "output_type": "stream",
     "text": [
      "Model: \"sequential_1\"\n",
      "_________________________________________________________________\n",
      " Layer (type)                Output Shape              Param #   \n",
      "=================================================================\n",
      " embedding_1 (Embedding)     (None, 500, 4)            20000     \n",
      "                                                                 \n",
      " gru_1 (GRU)                 (None, 4)                 120       \n",
      "                                                                 \n",
      " layer_normalization_1 (Laye  (None, 4)                8         \n",
      " rNormalization)                                                 \n",
      "                                                                 \n",
      " dense_1 (Dense)             (None, 1)                 5         \n",
      "                                                                 \n",
      "=================================================================\n",
      "Total params: 20,133\n",
      "Trainable params: 20,133\n",
      "Non-trainable params: 0\n",
      "_________________________________________________________________\n",
      "None\n"
     ]
    }
   ],
   "source": [
    "## setup the neural network architecture\n",
    "model=Sequential()\n",
    "\n",
    "embeddingSize = 4\n",
    "model.add(Embedding(vocabularySize, embeddingSize, embeddings_initializer='HeNormal', input_length=maxWords))\n",
    "\n",
    "# add layers: \n",
    "# model.add(SimpleRNN(8))\n",
    "# model.add(LSTM(4))\n",
    "model.add(GRU(4))\n",
    "model.add(LayerNormalization())\n",
    "\n",
    "# add layer for output\n",
    "model.add(Dense(1, activation='sigmoid'))\n",
    "\n",
    "# print model and check number of parameters\n",
    "print(model.summary())"
   ]
  },
  {
   "cell_type": "code",
   "execution_count": 7,
   "id": "18535444",
   "metadata": {},
   "outputs": [
    {
     "name": "stdout",
     "output_type": "stream",
     "text": [
      "Epoch 1/5\n",
      "390/390 [==============================] - 41s 101ms/step - loss: 0.5700 - accuracy: 0.6888 - val_loss: 0.5271 - val_accuracy: 0.7656\n",
      "Epoch 2/5\n",
      "390/390 [==============================] - 37s 96ms/step - loss: 0.3347 - accuracy: 0.8650 - val_loss: 0.1990 - val_accuracy: 0.9375\n",
      "Epoch 3/5\n",
      "390/390 [==============================] - 37s 96ms/step - loss: 0.2657 - accuracy: 0.9000 - val_loss: 0.2469 - val_accuracy: 0.9062\n",
      "Epoch 4/5\n",
      "390/390 [==============================] - 38s 98ms/step - loss: 0.2279 - accuracy: 0.9175 - val_loss: 0.2556 - val_accuracy: 0.9062\n",
      "Epoch 5/5\n",
      "390/390 [==============================] - 38s 97ms/step - loss: 0.2110 - accuracy: 0.9245 - val_loss: 0.2446 - val_accuracy: 0.9062\n",
      "Test accuracy: 0.8704800009727478\n"
     ]
    }
   ],
   "source": [
    "# set parameters for network training\n",
    "batchSize = 64\n",
    "numEpochs = 5\n",
    "\n",
    "# train your model\n",
    "model.compile(loss='binary_crossentropy',  optimizer='adam', metrics=['accuracy'])\n",
    "xValid, yValid = xTrain[:batchSize], yTrain[:batchSize]\n",
    "xTrain2, yTrain2 = xTrain[batchSize:], yTrain[batchSize:]\n",
    "hist = model.fit(xTrain2, yTrain2, validation_data=(xValid, yValid), batch_size=batchSize, epochs=numEpochs, use_multiprocessing=True)\n",
    "\n",
    "# check result\n",
    "scores = model.evaluate(xTest, yTest, verbose=0)\n",
    "print('Test accuracy:', scores[1])"
   ]
  },
  {
   "cell_type": "code",
   "execution_count": 8,
   "id": "252b10e9",
   "metadata": {},
   "outputs": [],
   "source": [
    "model.save('FinalResult.h5')"
   ]
  },
  {
   "cell_type": "code",
   "execution_count": 9,
   "id": "25ae6440",
   "metadata": {},
   "outputs": [],
   "source": [
    "from keras.models import load_model\n",
    "\n",
    "# Load the Model\n",
    "# model = load_model('FinalResult.h5')"
   ]
  },
  {
   "cell_type": "code",
   "execution_count": 14,
   "id": "dfac7dfb",
   "metadata": {},
   "outputs": [],
   "source": [
    "# Evaluate the Model\n",
    "from sklearn.metrics import confusion_matrix\n",
    "from sklearn.metrics import ConfusionMatrixDisplay\n",
    "import matplotlib.pyplot as plt\n",
    "import numpy as np\n",
    "\n",
    "def evaluate_model(model, x_val, y_val):\n",
    "    LossAndAccuracy = model.evaluate(x_val, y_val, verbose=0)\n",
    "    print('Loss: {0:5.3f} - Accuracy: {1:5.3f}'.format(LossAndAccuracy[0], LossAndAccuracy[1]))\n",
    "    \n",
    "def show_evaluate_model(model, x_val, y_val):\n",
    "    #Confution Matrix\n",
    "    Y_Predict = model.predict(x_val, verbose=0)\n",
    "    y_pred = Y_Predict > 0.5\n",
    "    y_true = np.zeros(len(y_pred))\n",
    "    for idx in range(len(y_true)):\n",
    "        y_true[idx] = y_val[idx]\n",
    "\n",
    "    cm = confusion_matrix(y_true, y_pred)\n",
    "    disp = ConfusionMatrixDisplay(confusion_matrix=cm)\n",
    "    fig = plt.figure(figsize=(6,6))\n",
    "    ax = fig.add_subplot(111)\n",
    "    disp.plot(ax=ax, cmap=plt.cm.Blues)\n",
    "    plt.xticks(rotation=90)\n",
    "    plt.show()"
   ]
  },
  {
   "cell_type": "code",
   "execution_count": 15,
   "id": "a0323399",
   "metadata": {},
   "outputs": [
    {
     "name": "stdout",
     "output_type": "stream",
     "text": [
      "Loss: 0.334 - Accuracy: 0.870\n"
     ]
    },
    {
     "data": {
      "image/png": "[encoded data removed]",
      "text/plain": [
       "<Figure size 432x432 with 2 Axes>"
      ]
     },
     "metadata": {
      "needs_background": "light"
     },
     "output_type": "display_data"
    }
   ],
   "source": [
    "evaluate_model(model, xTest, yTest)\n",
    "show_evaluate_model(model, xTest, yTest)"
   ]
  },
  {
   "cell_type": "code",
   "execution_count": null,
   "id": "2e42aa08",
   "metadata": {},
   "outputs": [],
   "source": []
  }
 ],
 "metadata": {
  "kernelspec": {
   "display_name": "Python 3 (ipykernel)",
   "language": "python",
   "name": "python3"
  },
  "language_info": {
   "codemirror_mode": {
    "name": "ipython",
    "version": 3
   },
   "file_extension": ".py",
   "mimetype": "text/x-python",
   "name": "python",
   "nbconvert_exporter": "python",
   "pygments_lexer": "ipython3",
   "version": "3.9.12"
  }
 },
 "nbformat": 4,
 "nbformat_minor": 5
}
