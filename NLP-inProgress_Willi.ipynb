{
 "cells": [
  {
   "cell_type": "markdown",
   "metadata": {},
   "source": [
    "### Template for NLP project\n",
    "\n",
    "The aim of the project is to achieve the following:\n",
    " - Train a neural network that is **at least better than random guessing** on your dataset. The template contains the IMDB dataset for sentiment analysis, however, you can choose any other language related data set with the appropriate NLP task.\n",
    " - Investigate different neural network architectures (different hyperparameters, different layers, different pre-processing). Explain in the presentation, why the final network was selected! **Do not rely on black-box mechanisms.**\n",
    " "
   ]
  },
  {
   "cell_type": "code",
   "execution_count": 1,
   "metadata": {},
   "outputs": [],
   "source": [
    "# tensorflow modules\n",
    "from tensorflow.keras.datasets import imdb\n",
    "from tensorflow.keras.preprocessing import sequence\n",
    "from tensorflow.keras import Sequential\n",
    "from tensorflow.keras.layers import Embedding, Dense, SimpleRNN, LayerNormalization\n",
    "from keras.layers import LSTM as ltsm, Bidirectional as bidi\n",
    "import tensorflow\n",
    "\n",
    "import matplotlib.pyplot as plt"
   ]
  },
  {
   "cell_type": "code",
   "execution_count": 2,
   "metadata": {},
   "outputs": [],
   "source": [
    "def load_data(_vocabulary_size): \n",
    "    return imdb.load_data(num_words=_vocabulary_size)\n",
    "\n",
    "def pad_data(_train, _test, _max_words):\n",
    "    return sequence.pad_sequences(_train, maxlen=_max_words), sequence.pad_sequences(_test, maxlen=_max_words)"
   ]
  },
  {
   "cell_type": "code",
   "execution_count": 18,
   "metadata": {},
   "outputs": [],
   "source": [
    "vocabulary_size = 5000\n",
    "max_words = 1000\n",
    "# vocabulary_size = 10000\n",
    "# max_words = 2000\n",
    "\n",
    "embedding_size = 64\n",
    "# rnn_count = 100\n",
    "ltsm_dims = 16\n",
    "\n",
    "activation_func = 'sigmoid'\n",
    "loss_func= 'binary_crossentropy'\n",
    "optimizer_func = \"adam\"\n",
    "\n",
    "# batch_size = 64\n",
    "batch_size = 64\n",
    "# num_epochs = 5\n",
    "num_epochs = 100\n",
    "\n",
    "(x_train, y_train), (x_test, y_test) = load_data(vocabulary_size);\n",
    "x_train_padded, x_test_padded = pad_data(x_train, x_test, max_words)"
   ]
  },
  {
   "cell_type": "code",
   "execution_count": 19,
   "metadata": {},
   "outputs": [],
   "source": [
    "model=Sequential()\n",
    "\n",
    "model.add(Embedding(vocabulary_size, embedding_size, input_length=max_words))\n",
    "\n",
    "# model.add(SimpleRNN(rnn_count))\n",
    "# model.add(bidi(ltsm(ltsm_dims)))       # ltsm_dims=64, epochs=5, 386.433/0 params, 767...947s/epoch -> 0,8619199991226196\n",
    "# model.add(ltsm(ltsm_dims))             # ltsm_dims=64, epochs=5, 353.217/0 params, 247...264s/epoch -> 0.8602399826049805\n",
    "# model.add(ltsm(32))                    # ltsm_dims=32, epochs=5, 332.513/0 params, 185...190s/epoch -> 0.8660799860954285\n",
    "# model.add(ltsm(16))                    # ltsm_dims=16, epochs=5, 325.233/0 params, 185...190s/epoch -> 0.8660799860954285\n",
    "\n",
    "# ltsm_dims=32, epochs=10, voc/max=10000/2000, batch_size=640, 673.217/0 params, 185...190s/epoch -> 0.8660799860954285\n",
    "model.add(ltsm(ltsm_dims))                    \n",
    "model.add(LayerNormalization())\n",
    "\n",
    "# add layer for output\n",
    "model.add(Dense(1, activation=activation_func))\n",
    "\n",
    "# train your model\n",
    "model.compile(loss=loss_func,  optimizer=optimizer_func, metrics=['accuracy'])"
   ]
  },
  {
   "cell_type": "code",
   "execution_count": 20,
   "metadata": {},
   "outputs": [
    {
     "name": "stdout",
     "output_type": "stream",
     "text": [
      "Loaded dataset with 25000 training samples, 25000 test samples:\n",
      "-----------------------------------------------------------------\n",
      "Maximum train review length: 2494\n",
      "Maximum test review length: 2315\n",
      "Minimum train review length: 11\n",
      "Minimum test review length: 7\n",
      "-----------------------------------------------------------------\n",
      "Model: \"sequential_2\"\n",
      "____________________________________________________________________________________________________\n",
      " Layer (type)                                Output Shape                            Param #        \n",
      "====================================================================================================\n",
      " embedding_2 (Embedding)                     (None, 1000, 64)                        320000         \n",
      "                                                                                                    \n",
      " lstm_2 (LSTM)                               (None, 16)                              5184           \n",
      "                                                                                                    \n",
      " layer_normalization_2 (LayerNormalization)  (None, 16)                              32             \n",
      "                                                                                                    \n",
      " dense_2 (Dense)                             (None, 1)                               17             \n",
      "                                                                                                    \n",
      "====================================================================================================\n",
      "Total params: 325,233\n",
      "Trainable params: 325,233\n",
      "Non-trainable params: 0\n",
      "____________________________________________________________________________________________________\n",
      "None\n"
     ]
    }
   ],
   "source": [
    "print('Loaded dataset with {} training samples, {} test samples:'.format(len(x_train), len(x_test)))\n",
    "print('-----------------------------------------------------------------')\n",
    "# get properties of the dataset\n",
    "print('Maximum train review length: {}'.format(len(max(x_train, key=len))))\n",
    "print('Maximum test review length: {}'.format(len(max(x_test, key=len))))\n",
    "print('Minimum train review length: {}'.format(len(min(x_train, key=len))))\n",
    "print('Minimum test review length: {}'.format(len(min(x_test, key=len))))\n",
    "print('-----------------------------------------------------------------')\n",
    "\n",
    "# print model and check number of parameters\n",
    "print(model.summary(line_length=100))"
   ]
  },
  {
   "cell_type": "code",
   "execution_count": 21,
   "metadata": {},
   "outputs": [
    {
     "name": "stdout",
     "output_type": "stream",
     "text": [
      "Epoch 1/100\n",
      "390/390 [==============================] - 114s 287ms/step - loss: 0.4447 - accuracy: 0.7980 - val_loss: 0.2066 - val_accuracy: 0.9375\n",
      "Epoch 2/100\n",
      "390/390 [==============================] - 126s 323ms/step - loss: 0.2903 - accuracy: 0.8934 - val_loss: 0.1924 - val_accuracy: 0.9531\n",
      "Epoch 3/100\n",
      "390/390 [==============================] - 156s 397ms/step - loss: 0.2331 - accuracy: 0.9187 - val_loss: 0.2931 - val_accuracy: 0.8906\n",
      "Epoch 4/100\n",
      "390/390 [==============================] - 132s 340ms/step - loss: 0.1886 - accuracy: 0.9354 - val_loss: 0.2917 - val_accuracy: 0.9062\n",
      "Epoch 5/100\n",
      "390/390 [==============================] - 164s 422ms/step - loss: 0.1620 - accuracy: 0.9456 - val_loss: 0.3123 - val_accuracy: 0.8594\n",
      "Epoch 6/100\n",
      "390/390 [==============================] - 124s 318ms/step - loss: 0.1331 - accuracy: 0.9539 - val_loss: 0.2756 - val_accuracy: 0.8906\n",
      "Epoch 7/100\n",
      "390/390 [==============================] - 149s 383ms/step - loss: 0.1043 - accuracy: 0.9662 - val_loss: 0.3194 - val_accuracy: 0.9219\n",
      "Epoch 8/100\n",
      "390/390 [==============================] - 156s 400ms/step - loss: 0.1097 - accuracy: 0.9628 - val_loss: 0.2794 - val_accuracy: 0.9062\n",
      "Epoch 9/100\n",
      "390/390 [==============================] - 135s 346ms/step - loss: 0.1221 - accuracy: 0.9565 - val_loss: 0.2759 - val_accuracy: 0.8906\n",
      "Epoch 10/100\n",
      "390/390 [==============================] - 140s 358ms/step - loss: 0.0778 - accuracy: 0.9753 - val_loss: 0.3246 - val_accuracy: 0.9219\n",
      "Epoch 11/100\n",
      "390/390 [==============================] - 157s 402ms/step - loss: 0.0509 - accuracy: 0.9847 - val_loss: 0.2548 - val_accuracy: 0.9375\n",
      "Epoch 12/100\n",
      "390/390 [==============================] - 141s 361ms/step - loss: 0.0445 - accuracy: 0.9859 - val_loss: 0.3374 - val_accuracy: 0.9375\n",
      "Epoch 13/100\n",
      "390/390 [==============================] - 133s 341ms/step - loss: 0.0546 - accuracy: 0.9826 - val_loss: 0.2847 - val_accuracy: 0.9062\n",
      "Epoch 14/100\n",
      "390/390 [==============================] - 145s 372ms/step - loss: 0.0394 - accuracy: 0.9882 - val_loss: 0.3432 - val_accuracy: 0.9219\n",
      "Epoch 15/100\n",
      "390/390 [==============================] - 145s 372ms/step - loss: 0.0376 - accuracy: 0.9884 - val_loss: 0.4024 - val_accuracy: 0.8750\n",
      "Epoch 16/100\n",
      "390/390 [==============================] - 131s 337ms/step - loss: 0.0491 - accuracy: 0.9839 - val_loss: 0.3439 - val_accuracy: 0.8906\n",
      "Epoch 17/100\n",
      "390/390 [==============================] - 153s 394ms/step - loss: 0.0202 - accuracy: 0.9946 - val_loss: 0.4464 - val_accuracy: 0.8906\n",
      "Epoch 18/100\n",
      "390/390 [==============================] - 133s 341ms/step - loss: 0.0337 - accuracy: 0.9899 - val_loss: 0.4277 - val_accuracy: 0.9062\n",
      "Epoch 19/100\n",
      "390/390 [==============================] - 158s 405ms/step - loss: 0.0362 - accuracy: 0.9892 - val_loss: 0.2514 - val_accuracy: 0.9219\n",
      "Epoch 20/100\n",
      "390/390 [==============================] - 145s 372ms/step - loss: 0.0163 - accuracy: 0.9957 - val_loss: 0.3425 - val_accuracy: 0.9375\n",
      "Epoch 21/100\n",
      "390/390 [==============================] - 141s 362ms/step - loss: 0.0172 - accuracy: 0.9958 - val_loss: 0.1654 - val_accuracy: 0.9531\n",
      "Epoch 22/100\n",
      "390/390 [==============================] - 136s 348ms/step - loss: 0.0142 - accuracy: 0.9961 - val_loss: 0.2855 - val_accuracy: 0.9375\n",
      "Epoch 23/100\n",
      "390/390 [==============================] - 134s 345ms/step - loss: 0.0188 - accuracy: 0.9944 - val_loss: 0.2852 - val_accuracy: 0.9375\n",
      "Epoch 24/100\n",
      "390/390 [==============================] - 152s 389ms/step - loss: 0.0279 - accuracy: 0.9918 - val_loss: 0.3540 - val_accuracy: 0.9219\n",
      "Epoch 25/100\n",
      "390/390 [==============================] - 136s 349ms/step - loss: 0.0098 - accuracy: 0.9973 - val_loss: 0.3877 - val_accuracy: 0.9375\n",
      "Epoch 26/100\n",
      "390/390 [==============================] - 145s 369ms/step - loss: 0.0285 - accuracy: 0.9918 - val_loss: 0.3951 - val_accuracy: 0.9375\n",
      "Epoch 27/100\n",
      "390/390 [==============================] - 130s 329ms/step - loss: 0.0122 - accuracy: 0.9966 - val_loss: 0.3011 - val_accuracy: 0.9219\n",
      "Epoch 28/100\n",
      "390/390 [==============================] - 145s 371ms/step - loss: 0.0252 - accuracy: 0.9933 - val_loss: 0.3441 - val_accuracy: 0.9375\n",
      "Epoch 29/100\n",
      "390/390 [==============================] - 132s 338ms/step - loss: 0.0091 - accuracy: 0.9976 - val_loss: 0.5375 - val_accuracy: 0.9062\n",
      "Epoch 30/100\n",
      "390/390 [==============================] - 145s 372ms/step - loss: 0.0089 - accuracy: 0.9974 - val_loss: 0.5915 - val_accuracy: 0.9219\n",
      "Epoch 31/100\n",
      "390/390 [==============================] - 151s 387ms/step - loss: 0.0030 - accuracy: 0.9996 - val_loss: 0.5648 - val_accuracy: 0.9375\n",
      "Epoch 32/100\n",
      "390/390 [==============================] - 145s 371ms/step - loss: 6.9017e-04 - accuracy: 0.9999 - val_loss: 0.5783 - val_accuracy: 0.9375\n",
      "Epoch 33/100\n",
      "390/390 [==============================] - 123s 315ms/step - loss: 3.3557e-04 - accuracy: 1.0000 - val_loss: 0.6077 - val_accuracy: 0.9375\n",
      "Epoch 34/100\n",
      "390/390 [==============================] - 141s 363ms/step - loss: 2.1899e-04 - accuracy: 1.0000 - val_loss: 0.6293 - val_accuracy: 0.9375\n",
      "Epoch 35/100\n",
      "390/390 [==============================] - 149s 381ms/step - loss: 1.5114e-04 - accuracy: 1.0000 - val_loss: 0.6491 - val_accuracy: 0.9375\n",
      "Epoch 36/100\n",
      "390/390 [==============================] - 146s 375ms/step - loss: 1.0827e-04 - accuracy: 1.0000 - val_loss: 0.6643 - val_accuracy: 0.9375\n",
      "Epoch 37/100\n",
      "390/390 [==============================] - 134s 345ms/step - loss: 8.0213e-05 - accuracy: 1.0000 - val_loss: 0.6821 - val_accuracy: 0.9375\n",
      "Epoch 38/100\n",
      "390/390 [==============================] - 139s 356ms/step - loss: 6.0789e-05 - accuracy: 1.0000 - val_loss: 0.6970 - val_accuracy: 0.9375\n",
      "Epoch 39/100\n",
      "390/390 [==============================] - 137s 351ms/step - loss: 4.6580e-05 - accuracy: 1.0000 - val_loss: 0.7164 - val_accuracy: 0.9375\n",
      "Epoch 40/100\n",
      "390/390 [==============================] - 160s 411ms/step - loss: 3.6094e-05 - accuracy: 1.0000 - val_loss: 0.7312 - val_accuracy: 0.9375\n",
      "Epoch 41/100\n",
      "390/390 [==============================] - 149s 381ms/step - loss: 2.8153e-05 - accuracy: 1.0000 - val_loss: 0.7442 - val_accuracy: 0.9375\n",
      "Epoch 42/100\n",
      "390/390 [==============================] - 123s 315ms/step - loss: 2.1968e-05 - accuracy: 1.0000 - val_loss: 0.7601 - val_accuracy: 0.9375\n",
      "Epoch 43/100\n",
      "390/390 [==============================] - 155s 397ms/step - loss: 1.7238e-05 - accuracy: 1.0000 - val_loss: 0.7754 - val_accuracy: 0.9375\n",
      "Epoch 44/100\n",
      "390/390 [==============================] - 119s 305ms/step - loss: 1.3667e-05 - accuracy: 1.0000 - val_loss: 0.7943 - val_accuracy: 0.9219\n",
      "Epoch 45/100\n",
      "390/390 [==============================] - 152s 389ms/step - loss: 1.0701e-05 - accuracy: 1.0000 - val_loss: 0.8125 - val_accuracy: 0.9219\n",
      "Epoch 46/100\n",
      "390/390 [==============================] - 120s 307ms/step - loss: 8.5360e-06 - accuracy: 1.0000 - val_loss: 0.8237 - val_accuracy: 0.9219\n",
      "Epoch 47/100\n",
      "390/390 [==============================] - 140s 358ms/step - loss: 6.7942e-06 - accuracy: 1.0000 - val_loss: 0.8372 - val_accuracy: 0.9219\n",
      "Epoch 48/100\n",
      "390/390 [==============================] - 163s 418ms/step - loss: 5.3880e-06 - accuracy: 1.0000 - val_loss: 0.8585 - val_accuracy: 0.9219\n",
      "Epoch 49/100\n",
      "390/390 [==============================] - 143s 367ms/step - loss: 4.2916e-06 - accuracy: 1.0000 - val_loss: 0.8773 - val_accuracy: 0.9219\n",
      "Epoch 50/100\n",
      "390/390 [==============================] - 142s 365ms/step - loss: 3.4167e-06 - accuracy: 1.0000 - val_loss: 0.8853 - val_accuracy: 0.9219\n",
      "Epoch 51/100\n",
      "390/390 [==============================] - 135s 347ms/step - loss: 2.7284e-06 - accuracy: 1.0000 - val_loss: 0.9145 - val_accuracy: 0.9219\n",
      "Epoch 52/100\n",
      "390/390 [==============================] - 146s 375ms/step - loss: 2.1758e-06 - accuracy: 1.0000 - val_loss: 0.9243 - val_accuracy: 0.9219\n",
      "Epoch 53/100\n",
      "390/390 [==============================] - 145s 373ms/step - loss: 1.7432e-06 - accuracy: 1.0000 - val_loss: 0.9465 - val_accuracy: 0.9219\n",
      "Epoch 54/100\n",
      "390/390 [==============================] - 141s 361ms/step - loss: 1.3991e-06 - accuracy: 1.0000 - val_loss: 0.9624 - val_accuracy: 0.9219\n",
      "Epoch 55/100\n",
      "390/390 [==============================] - 128s 327ms/step - loss: 1.1186e-06 - accuracy: 1.0000 - val_loss: 0.9874 - val_accuracy: 0.9219\n",
      "Epoch 56/100\n",
      "390/390 [==============================] - 138s 354ms/step - loss: 8.9735e-07 - accuracy: 1.0000 - val_loss: 0.9998 - val_accuracy: 0.9219\n",
      "Epoch 57/100\n",
      "390/390 [==============================] - 127s 326ms/step - loss: 7.2069e-07 - accuracy: 1.0000 - val_loss: 1.0173 - val_accuracy: 0.9219\n",
      "Epoch 58/100\n",
      "390/390 [==============================] - 140s 359ms/step - loss: 5.8161e-07 - accuracy: 1.0000 - val_loss: 1.0327 - val_accuracy: 0.9219\n",
      "Epoch 59/100\n",
      "390/390 [==============================] - 140s 358ms/step - loss: 4.6673e-07 - accuracy: 1.0000 - val_loss: 1.0442 - val_accuracy: 0.9219\n",
      "Epoch 60/100\n",
      "390/390 [==============================] - 114s 293ms/step - loss: 3.7591e-07 - accuracy: 1.0000 - val_loss: 1.0709 - val_accuracy: 0.9219\n",
      "Epoch 61/100\n",
      "390/390 [==============================] - 142s 364ms/step - loss: 3.0354e-07 - accuracy: 1.0000 - val_loss: 1.0745 - val_accuracy: 0.9219\n",
      "Epoch 62/100\n",
      "390/390 [==============================] - 127s 325ms/step - loss: 2.4432e-07 - accuracy: 1.0000 - val_loss: 1.0946 - val_accuracy: 0.9219\n",
      "Epoch 63/100\n",
      "390/390 [==============================] - 124s 319ms/step - loss: 1.9749e-07 - accuracy: 1.0000 - val_loss: 1.1231 - val_accuracy: 0.9219\n",
      "Epoch 64/100\n",
      "390/390 [==============================] - 139s 357ms/step - loss: 1.5965e-07 - accuracy: 1.0000 - val_loss: 1.1432 - val_accuracy: 0.9219\n",
      "Epoch 65/100\n",
      "390/390 [==============================] - 129s 330ms/step - loss: 1.2932e-07 - accuracy: 1.0000 - val_loss: 1.1505 - val_accuracy: 0.9219\n",
      "Epoch 66/100\n",
      "390/390 [==============================] - 145s 371ms/step - loss: 1.0492e-07 - accuracy: 1.0000 - val_loss: 1.1750 - val_accuracy: 0.9219\n",
      "Epoch 67/100\n",
      "390/390 [==============================] - 134s 344ms/step - loss: 8.5173e-08 - accuracy: 1.0000 - val_loss: 1.1945 - val_accuracy: 0.9219\n",
      "Epoch 68/100\n",
      "390/390 [==============================] - 136s 350ms/step - loss: 6.9222e-08 - accuracy: 1.0000 - val_loss: 1.2024 - val_accuracy: 0.9219\n",
      "Epoch 69/100\n",
      "390/390 [==============================] - 163s 418ms/step - loss: 5.6344e-08 - accuracy: 1.0000 - val_loss: 1.2270 - val_accuracy: 0.9219\n",
      "Epoch 70/100\n",
      "390/390 [==============================] - 163s 418ms/step - loss: 4.5956e-08 - accuracy: 1.0000 - val_loss: 1.2421 - val_accuracy: 0.9219\n",
      "Epoch 71/100\n",
      "390/390 [==============================] - 145s 371ms/step - loss: 3.7461e-08 - accuracy: 1.0000 - val_loss: 1.2641 - val_accuracy: 0.9219\n",
      "Epoch 72/100\n",
      "390/390 [==============================] - 162s 417ms/step - loss: 3.0693e-08 - accuracy: 1.0000 - val_loss: 1.2789 - val_accuracy: 0.9219\n",
      "Epoch 73/100\n",
      "390/390 [==============================] - 137s 352ms/step - loss: 2.5146e-08 - accuracy: 1.0000 - val_loss: 1.2958 - val_accuracy: 0.9219\n",
      "Epoch 74/100\n",
      "390/390 [==============================] - 155s 396ms/step - loss: 2.0669e-08 - accuracy: 1.0000 - val_loss: 1.3056 - val_accuracy: 0.9219\n",
      "Epoch 75/100\n",
      "390/390 [==============================] - 180s 463ms/step - loss: 1.7018e-08 - accuracy: 1.0000 - val_loss: 1.3275 - val_accuracy: 0.9219\n",
      "Epoch 76/100\n",
      "390/390 [==============================] - 140s 358ms/step - loss: 1.4025e-08 - accuracy: 1.0000 - val_loss: 1.3386 - val_accuracy: 0.9219\n",
      "Epoch 77/100\n",
      "390/390 [==============================] - 145s 373ms/step - loss: 1.1570e-08 - accuracy: 1.0000 - val_loss: 1.3668 - val_accuracy: 0.9219\n",
      "Epoch 78/100\n",
      "390/390 [==============================] - 135s 347ms/step - loss: 9.6136e-09 - accuracy: 1.0000 - val_loss: 1.3867 - val_accuracy: 0.9219\n",
      "Epoch 79/100\n",
      "390/390 [==============================] - 190s 488ms/step - loss: 8.0079e-09 - accuracy: 1.0000 - val_loss: 1.3982 - val_accuracy: 0.9219\n",
      "Epoch 80/100\n",
      "390/390 [==============================] - 153s 392ms/step - loss: 6.6964e-09 - accuracy: 1.0000 - val_loss: 1.4199 - val_accuracy: 0.9219\n",
      "Epoch 81/100\n",
      "390/390 [==============================] - 154s 396ms/step - loss: 5.6077e-09 - accuracy: 1.0000 - val_loss: 1.4401 - val_accuracy: 0.9219\n",
      "Epoch 82/100\n",
      "390/390 [==============================] - 140s 360ms/step - loss: 4.7328e-09 - accuracy: 1.0000 - val_loss: 1.4508 - val_accuracy: 0.9219\n",
      "Epoch 83/100\n",
      "390/390 [==============================] - 164s 422ms/step - loss: 4.0085e-09 - accuracy: 1.0000 - val_loss: 1.4595 - val_accuracy: 0.9219\n",
      "Epoch 84/100\n",
      "390/390 [==============================] - 159s 408ms/step - loss: 3.4075e-09 - accuracy: 1.0000 - val_loss: 1.4792 - val_accuracy: 0.9219\n",
      "Epoch 85/100\n",
      "390/390 [==============================] - 165s 424ms/step - loss: 2.9248e-09 - accuracy: 1.0000 - val_loss: 1.4916 - val_accuracy: 0.9219\n",
      "Epoch 86/100\n",
      "390/390 [==============================] - 150s 384ms/step - loss: 2.5249e-09 - accuracy: 1.0000 - val_loss: 1.5092 - val_accuracy: 0.9219\n",
      "Epoch 87/100\n",
      "390/390 [==============================] - 132s 338ms/step - loss: 2.1911e-09 - accuracy: 1.0000 - val_loss: 1.5176 - val_accuracy: 0.9219\n",
      "Epoch 88/100\n",
      "390/390 [==============================] - 147s 377ms/step - loss: 1.9188e-09 - accuracy: 1.0000 - val_loss: 1.5359 - val_accuracy: 0.9219\n",
      "Epoch 89/100\n",
      "390/390 [==============================] - 180s 461ms/step - loss: 1.6719e-09 - accuracy: 1.0000 - val_loss: 1.5464 - val_accuracy: 0.9219\n",
      "Epoch 90/100\n",
      "390/390 [==============================] - 149s 382ms/step - loss: 1.4946e-09 - accuracy: 1.0000 - val_loss: 1.5621 - val_accuracy: 0.9219\n",
      "Epoch 91/100\n",
      "390/390 [==============================] - 167s 429ms/step - loss: 0.1397 - accuracy: 0.9743 - val_loss: 0.7155 - val_accuracy: 0.8594\n",
      "Epoch 92/100\n",
      "390/390 [==============================] - 139s 357ms/step - loss: 0.0344 - accuracy: 0.9900 - val_loss: 0.5500 - val_accuracy: 0.8906\n",
      "Epoch 93/100\n",
      "390/390 [==============================] - 166s 427ms/step - loss: 0.0121 - accuracy: 0.9966 - val_loss: 0.7513 - val_accuracy: 0.8594\n",
      "Epoch 94/100\n",
      "390/390 [==============================] - 136s 350ms/step - loss: 0.0093 - accuracy: 0.9979 - val_loss: 0.6929 - val_accuracy: 0.9062\n",
      "Epoch 95/100\n",
      "390/390 [==============================] - 158s 404ms/step - loss: 0.0044 - accuracy: 0.9990 - val_loss: 0.6197 - val_accuracy: 0.9219\n",
      "Epoch 96/100\n",
      "390/390 [==============================] - 155s 398ms/step - loss: 6.0489e-04 - accuracy: 1.0000 - val_loss: 0.6406 - val_accuracy: 0.9219\n",
      "Epoch 97/100\n",
      "390/390 [==============================] - 158s 405ms/step - loss: 2.8154e-04 - accuracy: 1.0000 - val_loss: 0.6678 - val_accuracy: 0.9219\n",
      "Epoch 98/100\n",
      "390/390 [==============================] - 142s 364ms/step - loss: 1.9787e-04 - accuracy: 1.0000 - val_loss: 0.6750 - val_accuracy: 0.9219\n",
      "Epoch 99/100\n",
      "390/390 [==============================] - 160s 411ms/step - loss: 1.4429e-04 - accuracy: 1.0000 - val_loss: 0.6918 - val_accuracy: 0.9219\n",
      "Epoch 100/100\n",
      "390/390 [==============================] - 151s 389ms/step - loss: 1.0926e-04 - accuracy: 1.0000 - val_loss: 0.6991 - val_accuracy: 0.9219\n",
      "Test accuracy: 0.8520399928092957\n"
     ]
    }
   ],
   "source": [
    "x_validate, y_validate = x_train_padded[:batch_size], y_train[:batch_size]\n",
    "x_train2, y_train2 = x_train_padded[batch_size:], y_train[batch_size:]\n",
    "\n",
    "hist = model.fit(x_train2, y_train2, validation_data=(x_validate, y_validate), batch_size=batch_size, epochs=num_epochs)\n",
    "\n",
    "# check result\n",
    "scores = model.evaluate(x_test_padded, y_test, verbose=0)\n",
    "print('Test accuracy:', scores[1])"
   ]
  },
  {
   "cell_type": "code",
   "execution_count": 25,
   "metadata": {},
   "outputs": [
    {
     "data": {
      "image/png": "[encoded data removed]",
      "text/plain": [
       "<Figure size 432x288 with 1 Axes>"
      ]
     },
     "metadata": {
      "needs_background": "light"
     },
     "output_type": "display_data"
    }
   ],
   "source": [
    "history = hist\n",
    "\n",
    "plt.plot(history.history['accuracy'])\n",
    "plt.plot(history.history['val_accuracy'])\n",
    "plt.title('Model accuracy')\n",
    "plt.xlabel('Epoch')\n",
    "plt.ylabel('Accuracy')\n",
    "plt.legend(['train', 'test'], loc='lower right')\n",
    "plt.grid()\n",
    "plt.show()"
   ]
  },
  {
   "cell_type": "code",
   "execution_count": 24,
   "metadata": {},
   "outputs": [
    {
     "data": {
      "image/png": "[encoded data removed]",
      "text/plain": [
       "<Figure size 432x288 with 1 Axes>"
      ]
     },
     "metadata": {
      "needs_background": "light"
     },
     "output_type": "display_data"
    }
   ],
   "source": [
    "plt.plot(history.history['loss'])\n",
    "plt.plot(history.history['val_loss'])\n",
    "plt.title('Model loss')\n",
    "plt.xlabel('Epoch')\n",
    "plt.ylabel('Loss')\n",
    "plt.legend(['train', 'test'], loc='upper left')\n",
    "plt.grid()\n",
    "plt.show()"
   ]
  },
  {
   "cell_type": "code",
   "execution_count": 26,
   "metadata": {},
   "outputs": [
    {
     "name": "stderr",
     "output_type": "stream",
     "text": [
      "WARNING:absl:Found untraced functions such as lstm_cell_2_layer_call_fn, lstm_cell_2_layer_call_and_return_conditional_losses while saving (showing 2 of 2). These functions will not be directly callable after loading.\n"
     ]
    },
    {
     "name": "stdout",
     "output_type": "stream",
     "text": [
      "INFO:tensorflow:Assets written to: RNN_TrainResults/wku6262\\assets\n"
     ]
    },
    {
     "name": "stderr",
     "output_type": "stream",
     "text": [
      "INFO:tensorflow:Assets written to: RNN_TrainResults/wku6262\\assets\n"
     ]
    }
   ],
   "source": [
    "model.save('RNN_TrainResults/wku6262')"
   ]
  },
  {
   "cell_type": "code",
   "execution_count": 27,
   "metadata": {},
   "outputs": [
    {
     "data": {
      "text/plain": [
       "'C:\\\\Users\\\\WIKU\\\\OneDrive - FH Vorarlberg\\\\06_03_ArtificalIntelligence\\\\Seminars\\\\20220531_rnn'"
      ]
     },
     "execution_count": 27,
     "metadata": {},
     "output_type": "execute_result"
    }
   ],
   "source": [
    "%pwd"
   ]
  },
  {
   "cell_type": "code",
   "execution_count": null,
   "metadata": {},
   "outputs": [],
   "source": []
  }
 ],
 "metadata": {
  "kernelspec": {
   "display_name": "Python 3",
   "language": "python",
   "name": "python3"
  },
  "language_info": {
   "codemirror_mode": {
    "name": "ipython",
    "version": 3
   },
   "file_extension": ".py",
   "mimetype": "text/x-python",
   "name": "python",
   "nbconvert_exporter": "python",
   "pygments_lexer": "ipython3",
   "version": "3.8.3"
  }
 },
 "nbformat": 4,
 "nbformat_minor": 5
}
